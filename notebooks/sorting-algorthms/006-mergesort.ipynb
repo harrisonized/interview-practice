{
 "cells": [
  {
   "cell_type": "code",
   "execution_count": 1,
   "metadata": {},
   "outputs": [],
   "source": [
    "def merge_sort(array, to_print=False):\n",
    "    \"\"\"Recursively calls itself to split\n",
    "    Then reconstructs a new sorted array during the merging process\n",
    "    \n",
    "    Eg. \n",
    "    array = [12, 11, 13, 5, 6, 7]\n",
    "    array = merge_sort(array)\n",
    "    array\n",
    "    \n",
    "    [5, 6, 7, 11, 12, 13]\n",
    "    \"\"\"\n",
    "    if len(array) > 1:\n",
    "        \n",
    "        # split\n",
    "        mid = len(array)//2\n",
    "        left, right = array[:mid], array[mid:]\n",
    "        print(\"split: \", array, left, right) if to_print else None\n",
    "        \n",
    "        # recursive call\n",
    "        left = merge_sort(left)\n",
    "        right = merge_sort(right)\n",
    "        \n",
    "        # update input array with sorted elements\n",
    "        i = 0  # array_idx\n",
    "        while len(left) != 0 and len(right) != 0:\n",
    "            if left[0] < right[0]:\n",
    "                array[i] = left.pop(0)\n",
    "            else:\n",
    "                array[i] = right.pop(0)\n",
    "            i += 1\n",
    "        \n",
    "        # copy missed elements\n",
    "        print(\"remain: \", i, left, right)\n",
    "        if left:\n",
    "            for num in left:\n",
    "                array[i] = num\n",
    "                i += 1\n",
    "        if right:\n",
    "            for num in right:\n",
    "                array[i] = num\n",
    "                i += 1\n",
    "                \n",
    "    print(\"merge: \", array) if to_print else None\n",
    "    return array"
   ]
  },
  {
   "cell_type": "code",
   "execution_count": 2,
   "metadata": {},
   "outputs": [
    {
     "name": "stdout",
     "output_type": "stream",
     "text": [
      "split:  [12, 11, 13, 5, 6, 7] [12, 11, 13] [5, 6, 7]\n",
      "remain:  1 [] [13]\n",
      "remain:  2 [] [13]\n",
      "remain:  1 [] [7]\n",
      "remain:  1 [] [6, 7]\n",
      "remain:  3 [11, 12, 13] []\n",
      "merge:  [5, 6, 7, 11, 12, 13]\n"
     ]
    },
    {
     "data": {
      "text/plain": [
       "[5, 6, 7, 11, 12, 13]"
      ]
     },
     "execution_count": 2,
     "metadata": {},
     "output_type": "execute_result"
    }
   ],
   "source": [
    "array = [12, 11, 13, 5, 6, 7]\n",
    "array = merge_sort(array, to_print=True)\n",
    "array"
   ]
  },
  {
   "cell_type": "code",
   "execution_count": null,
   "metadata": {},
   "outputs": [],
   "source": []
  }
 ],
 "metadata": {
  "kernelspec": {
   "display_name": "Python 3",
   "language": "python",
   "name": "python3"
  },
  "language_info": {
   "codemirror_mode": {
    "name": "ipython",
    "version": 3
   },
   "file_extension": ".py",
   "mimetype": "text/x-python",
   "name": "python",
   "nbconvert_exporter": "python",
   "pygments_lexer": "ipython3",
   "version": "3.7.6"
  }
 },
 "nbformat": 4,
 "nbformat_minor": 4
}
