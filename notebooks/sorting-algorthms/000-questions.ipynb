{
 "cells": [
  {
   "cell_type": "code",
   "execution_count": null,
   "metadata": {},
   "outputs": [],
   "source": [
    "# Iterative\n",
    "# Bubble sort: iterate through, swap pairs\n",
    "# Selection Sort: iterate through, find minimum, move to front, then repeat\n",
    "# Insertion sort: iterate through, compare to previous element, then insert at correct position\n",
    "# Counting sort: if you know the range, add the counts to a dictionary, then use that to construct a new list\n",
    "# Tree sort: add items to a binary tree, print inorder\n",
    "# Heap sort: similar to tree sort, but uses a heap instead\n",
    "\n",
    "# Special\n",
    "# Bucket sort: if you know the min and max of the array, can split into buckets first, sort each bucket individually\n",
    "# Radix sort: each decimal place is a bucket to be sorted, each bucket is sorted using counting sort\n",
    "\n",
    "# Recursive\n",
    "# Merge sort: Recursively break down the array into halves, then build up again\n",
    "# Quick sort: Special case of merge_sort where pivot is chosen randomly instead of in half\n",
    "\n",
    "# Note: worst case is usually O(n^2), better ones are O(nlog(n))"
   ]
  },
  {
   "cell_type": "code",
   "execution_count": null,
   "metadata": {},
   "outputs": [],
   "source": []
  }
 ],
 "metadata": {
  "kernelspec": {
   "display_name": "Python 3",
   "language": "python",
   "name": "python3"
  },
  "language_info": {
   "codemirror_mode": {
    "name": "ipython",
    "version": 3
   },
   "file_extension": ".py",
   "mimetype": "text/x-python",
   "name": "python",
   "nbconvert_exporter": "python",
   "pygments_lexer": "ipython3",
   "version": "3.7.6"
  }
 },
 "nbformat": 4,
 "nbformat_minor": 4
}
