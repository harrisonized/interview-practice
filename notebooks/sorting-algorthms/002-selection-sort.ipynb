{
 "cells": [
  {
   "cell_type": "code",
   "execution_count": 1,
   "metadata": {},
   "outputs": [],
   "source": [
    "import os\n",
    "import sys\n",
    "import re\n",
    "project_path = re.match('/.+interview-practice/', os.getcwd())[0]\n",
    "sys.path.append(project_path)\n",
    "\n",
    "from functions.structs.sorting import selection_sort"
   ]
  },
  {
   "cell_type": "code",
   "execution_count": 2,
   "metadata": {},
   "outputs": [],
   "source": [
    "def selection_sort(array: list, to_print=False):\n",
    "    \"\"\"Sorts in-place\n",
    "    \n",
    "    Example:\n",
    "    array = [64, 34, 25, 12, 22, 11, 90]\n",
    "    \n",
    "    During each loop from l to n, find minimum and swap with first element of loop\n",
    "    \n",
    "    l, mi, array\n",
    "    0, 11, [64, 34, 25, 12, 22, 11, 90]\n",
    "    1, 12, [11, 34, 25, 12, 22, 64, 90]\n",
    "    2, 22, [11, 12, 25, 34, 22, 64, 90]\n",
    "    3, 25, [11, 12, 22, 34, 25, 64, 90]\n",
    "    4, 34, [11, 12, 22, 25, 34, 64, 90]\n",
    "    5, 64, [11, 12, 22, 25, 34, 64, 90]\n",
    "    6, 90, [11, 12, 22, 25, 34, 64, 90]\n",
    "    \"\"\"\n",
    "    array_len = len(array)\n",
    "    \n",
    "    for loop_idx in range(array_len):\n",
    "        \n",
    "        min_idx, prev_num = loop_idx, array[loop_idx]\n",
    "        for i, curr_num in enumerate(array[1+loop_idx:], 1+loop_idx):\n",
    "            \n",
    "            if curr_num < prev_num:\n",
    "                min_idx = i\n",
    "                \n",
    "            prev_num = curr_num\n",
    "            \n",
    "        print(loop_idx, array[min_idx], array) if to_print else None\n",
    "        array[loop_idx], array[min_idx] = array[min_idx], array[loop_idx]\n",
    "        \n",
    "    return array"
   ]
  },
  {
   "cell_type": "code",
   "execution_count": 3,
   "metadata": {},
   "outputs": [
    {
     "data": {
      "text/plain": [
       "[11, 12, 22, 25, 34, 64, 90]"
      ]
     },
     "execution_count": 3,
     "metadata": {},
     "output_type": "execute_result"
    }
   ],
   "source": [
    "array = [64, 34, 25, 12, 22, 11, 90]\n",
    "array = selection_sort(array)\n",
    "array"
   ]
  },
  {
   "cell_type": "code",
   "execution_count": null,
   "metadata": {},
   "outputs": [],
   "source": []
  }
 ],
 "metadata": {
  "kernelspec": {
   "display_name": "Python 3",
   "language": "python",
   "name": "python3"
  },
  "language_info": {
   "codemirror_mode": {
    "name": "ipython",
    "version": 3
   },
   "file_extension": ".py",
   "mimetype": "text/x-python",
   "name": "python",
   "nbconvert_exporter": "python",
   "pygments_lexer": "ipython3",
   "version": "3.7.6"
  }
 },
 "nbformat": 4,
 "nbformat_minor": 4
}
