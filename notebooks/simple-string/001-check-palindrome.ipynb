{
 "cells": [
  {
   "cell_type": "code",
   "execution_count": 1,
   "metadata": {},
   "outputs": [],
   "source": [
    "import math"
   ]
  },
  {
   "cell_type": "code",
   "execution_count": 18,
   "metadata": {},
   "outputs": [],
   "source": [
    "def is_palindrome(word):\n",
    "    \"\"\"be careful with the slicing and the index\n",
    "    \"\"\"\n",
    "    length = len(word)\n",
    "    rev_word = word[length-1:math.floor(length/2)-1:-1]  # only need to check half the word\n",
    "    \n",
    "    \n",
    "    if length <= 1:\n",
    "        return True\n",
    "    \n",
    "    else:\n",
    "        idx = 0\n",
    "        while idx < math.floor(length/2):\n",
    "            if word[idx] != rev_word[idx]:\n",
    "                return False\n",
    "            idx += 1\n",
    "        return True"
   ]
  },
  {
   "cell_type": "code",
   "execution_count": 21,
   "metadata": {},
   "outputs": [
    {
     "data": {
      "text/plain": [
       "False"
      ]
     },
     "execution_count": 21,
     "metadata": {},
     "output_type": "execute_result"
    }
   ],
   "source": [
    "is_palindrome(\"colon\")"
   ]
  },
  {
   "cell_type": "code",
   "execution_count": 57,
   "metadata": {},
   "outputs": [],
   "source": [
    "from collections import deque\n",
    "\n",
    "def is_palindrome(word):\n",
    "    \"\"\"using pop\n",
    "    try-except useful when length is odd\n",
    "    \"\"\"\n",
    "    word_deck = deque(word)\n",
    "    \n",
    "    while word_deck:\n",
    "        try:\n",
    "            if word_deck.popleft() != word_deck.pop():\n",
    "                return False\n",
    "        except IndexError:\n",
    "            continue\n",
    "\n",
    "    return True"
   ]
  },
  {
   "cell_type": "code",
   "execution_count": 65,
   "metadata": {
    "scrolled": false
   },
   "outputs": [
    {
     "data": {
      "text/plain": [
       "True"
      ]
     },
     "execution_count": 65,
     "metadata": {},
     "output_type": "execute_result"
    }
   ],
   "source": [
    "is_palindrome(\"ababa\")"
   ]
  },
  {
   "cell_type": "code",
   "execution_count": null,
   "metadata": {},
   "outputs": [],
   "source": []
  }
 ],
 "metadata": {
  "kernelspec": {
   "display_name": "Python 3",
   "language": "python",
   "name": "python3"
  },
  "language_info": {
   "codemirror_mode": {
    "name": "ipython",
    "version": 3
   },
   "file_extension": ".py",
   "mimetype": "text/x-python",
   "name": "python",
   "nbconvert_exporter": "python",
   "pygments_lexer": "ipython3",
   "version": "3.7.6"
  }
 },
 "nbformat": 4,
 "nbformat_minor": 4
}
