{
 "cells": [
  {
   "cell_type": "code",
   "execution_count": 1,
   "metadata": {
    "scrolled": false
   },
   "outputs": [
    {
     "name": "stdout",
     "output_type": "stream",
     "text": [
      "140436036023344\n"
     ]
    },
    {
     "data": {
      "text/plain": [
       "'hello world'"
      ]
     },
     "execution_count": 1,
     "metadata": {},
     "output_type": "execute_result"
    }
   ],
   "source": [
    "import ctypes\n",
    "\n",
    "def obj_val_from_id(obj_id):\n",
    "    \"\"\"See: https://stackoverflow.com/questions/1396668/get-object-by-id\n",
    "    \n",
    "    Example:\n",
    "    text = \"hello world\"\n",
    "    print(id(text))\n",
    "    obj_val_from_id(id(text))\n",
    "    \n",
    "    Note: Do NOT use. This kills the kernel if obj_id does not exist\n",
    "    \"\"\"\n",
    "    return ctypes.cast(obj_id, ctypes.py_object).value\n",
    "\n",
    "text = \"hello world\"\n",
    "print(id(text))\n",
    "obj_val_from_id(id(text))"
   ]
  },
  {
   "cell_type": "code",
   "execution_count": null,
   "metadata": {},
   "outputs": [],
   "source": []
  }
 ],
 "metadata": {
  "kernelspec": {
   "display_name": "Python 3",
   "language": "python",
   "name": "python3"
  },
  "language_info": {
   "codemirror_mode": {
    "name": "ipython",
    "version": 3
   },
   "file_extension": ".py",
   "mimetype": "text/x-python",
   "name": "python",
   "nbconvert_exporter": "python",
   "pygments_lexer": "ipython3",
   "version": "3.7.6"
  }
 },
 "nbformat": 4,
 "nbformat_minor": 4
}
