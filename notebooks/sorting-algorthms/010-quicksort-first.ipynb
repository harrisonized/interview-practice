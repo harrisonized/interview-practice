{
 "cells": [
  {
   "cell_type": "markdown",
   "metadata": {},
   "source": [
    "This is not a good implementation!"
   ]
  },
  {
   "cell_type": "code",
   "execution_count": 1,
   "metadata": {},
   "outputs": [],
   "source": [
    "import os\n",
    "import sys\n",
    "import re\n",
    "project_path = re.match('/.+interview-practice/', os.getcwd())[0]\n",
    "sys.path.append(project_path)\n",
    "\n",
    "# from functions.structs.sorting import qs_partition, quick_sort"
   ]
  },
  {
   "cell_type": "code",
   "execution_count": 2,
   "metadata": {},
   "outputs": [],
   "source": [
    "def qs_partition(array, start, stop, to_print=False):\n",
    "    \"\"\" Pick a pivot, Eg. 3\n",
    "    Iterate through the array, Eg. [6, 2, 4, 5, 1, 3]\n",
    "    If the element is smaller than the pivot:\n",
    "        swap with the pivot_idx, then increment the pivot_idx\n",
    "        \n",
    "    Example with pivot_pos='first':\n",
    "    Iterate through [6, 2, 4, 5, 1, 3]  # pivot is skipped / ignored!\n",
    "    2 is less than 6, so swap with itself (pivot_idx=1), new pivot_idx=2\n",
    "    4 is less than 6, so swap with itself (pivot_idx=2), new pivot_idx=3\n",
    "    5 is less than 6, so swap with itself (pivot_idx=3), new pivot_idx=4\n",
    "    1 is less than 6, so swap with itself (pivot_idx=4), new pivot_idx=5\n",
    "    3 is less than 6, so swap with itself (pivot_idx=5), new pivot_idx=6\n",
    "    \n",
    "    Swap pivot with the number at pivot_idx\n",
    "    [3, 2, 4, 5, 1, 6]\n",
    "    pivot=6 is now at correct position of pivot_idx=5\n",
    "    \n",
    "    now quicksort [3, 2, 4, 5, 1]    \n",
    "    \"\"\"\n",
    "    pivot_pos = start\n",
    "    \n",
    "    pivot = array[pivot_pos]  # try some other pivots\n",
    "    \n",
    "    pivot_idx = start\n",
    "    print(\"before: \", array, pivot_idx, pivot) if to_print else None\n",
    "    for i, num in enumerate(array[start: stop+1], start):\n",
    "        if num <= pivot:\n",
    "            print(array, array[i], array[pivot_idx]) if to_print else None\n",
    "            array[i], array[pivot_idx] = array[pivot_idx], num\n",
    "            pivot_idx += 1\n",
    "            \n",
    "    # move the pivot to the pivot_idx\n",
    "    pivot_idx -= 1\n",
    "    array[pivot_idx], array[pivot_pos] = array[pivot_pos], array[pivot_idx]\n",
    "    \n",
    "    print(\"after: \", array, pivot_idx, pivot) if to_print else None\n",
    "    return array, pivot_idx\n",
    "\n",
    "  \n",
    "def quick_sort(array, start=0, stop=None, to_print=False): \n",
    "    \"\"\" Moves the pivot to the pivot_idx\n",
    "    Numbers < pivot are moved to the left of the pivot_idx.\n",
    "    Numbers > pivot are moved to the right of the pivot_idx.\n",
    "    Recursively sorts left and right subarrays\n",
    "    \"\"\"\n",
    "    if len(array) <= 1:\n",
    "        return array\n",
    "    \n",
    "    if stop==None:\n",
    "        stop=len(array)-1\n",
    "    \n",
    "    if start < stop:\n",
    "        array, pivot_idx = qs_partition(array, start, stop, to_print)\n",
    "  \n",
    "        array = quick_sort(array, start, pivot_idx-1, to_print) \n",
    "        array = quick_sort(array, pivot_idx+1, stop, to_print)\n",
    "    return array"
   ]
  },
  {
   "cell_type": "code",
   "execution_count": 3,
   "metadata": {},
   "outputs": [
    {
     "name": "stdout",
     "output_type": "stream",
     "text": [
      "before:  [6, 2, 4, 5, 1, 3] 0 6\n",
      "[6, 2, 4, 5, 1, 3] 6 6\n",
      "[6, 2, 4, 5, 1, 3] 2 2\n",
      "[6, 2, 4, 5, 1, 3] 4 4\n",
      "[6, 2, 4, 5, 1, 3] 5 5\n",
      "[6, 2, 4, 5, 1, 3] 1 1\n",
      "[6, 2, 4, 5, 1, 3] 3 3\n",
      "after:  [3, 2, 4, 5, 1, 6] 5 6\n",
      "before:  [3, 2, 4, 5, 1, 6] 0 3\n",
      "[3, 2, 4, 5, 1, 6] 3 3\n",
      "[3, 2, 4, 5, 1, 6] 2 2\n",
      "[3, 2, 4, 5, 1, 6] 1 4\n",
      "after:  [1, 2, 3, 5, 4, 6] 2 3\n",
      "before:  [1, 2, 3, 5, 4, 6] 0 1\n",
      "[1, 2, 3, 5, 4, 6] 1 1\n",
      "after:  [1, 2, 3, 5, 4, 6] 0 1\n",
      "before:  [1, 2, 3, 5, 4, 6] 3 5\n",
      "[1, 2, 3, 5, 4, 6] 5 5\n",
      "[1, 2, 3, 5, 4, 6] 4 4\n",
      "after:  [1, 2, 3, 4, 5, 6] 4 5\n"
     ]
    },
    {
     "data": {
      "text/plain": [
       "[1, 2, 3, 4, 5, 6]"
      ]
     },
     "execution_count": 3,
     "metadata": {},
     "output_type": "execute_result"
    }
   ],
   "source": [
    "# overall program\n",
    "array = [6, 2, 4, 5, 1, 3]\n",
    "array = quick_sort(array, to_print=True)\n",
    "array"
   ]
  },
  {
   "cell_type": "code",
   "execution_count": null,
   "metadata": {},
   "outputs": [],
   "source": []
  }
 ],
 "metadata": {
  "kernelspec": {
   "display_name": "Python 3",
   "language": "python",
   "name": "python3"
  },
  "language_info": {
   "codemirror_mode": {
    "name": "ipython",
    "version": 3
   },
   "file_extension": ".py",
   "mimetype": "text/x-python",
   "name": "python",
   "nbconvert_exporter": "python",
   "pygments_lexer": "ipython3",
   "version": "3.7.6"
  }
 },
 "nbformat": 4,
 "nbformat_minor": 4
}
