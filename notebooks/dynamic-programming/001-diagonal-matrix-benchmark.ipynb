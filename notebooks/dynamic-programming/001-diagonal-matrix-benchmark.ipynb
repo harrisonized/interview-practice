{
 "cells": [
  {
   "cell_type": "code",
   "execution_count": 1,
   "metadata": {},
   "outputs": [],
   "source": [
    "import os\n",
    "import sys\n",
    "import re\n",
    "project_path = re.match('/.+interview-practice/', os.getcwd())[0]\n",
    "sys.path.append(project_path)\n",
    "\n",
    "from functions.iterators import create_matrix_of_idx"
   ]
  },
  {
   "cell_type": "code",
   "execution_count": 2,
   "metadata": {},
   "outputs": [],
   "source": [
    "matrix = create_matrix_of_idx(400, 300)"
   ]
  },
  {
   "cell_type": "code",
   "execution_count": 3,
   "metadata": {},
   "outputs": [],
   "source": [
    "def idx_for_diag_se_from_bl(num_rows=2, num_cols=3):\n",
    "    \"\"\"Traverse southeast diagonals from bottom left\n",
    "    Eg.\n",
    "    \n",
    "      0    1    2\n",
    "       \\\\   \\\\   \\\\ \n",
    "    -1 ['A', 'B', 'C']\n",
    "       \\\\   \\\\   \\\\ \n",
    "       ['D', 'E', 'F']\n",
    "      \n",
    "    Returns row and col indices for: D, E, A, F, B, C\n",
    "\n",
    "    Align two strings where col -> str1, row -> str2\n",
    "    col:  abc    abc    abc\n",
    "          |   => ||  =>   |\n",
    "    row: ab      ab       ab\n",
    "    \n",
    "    Fastest but reduces readability\n",
    "    \"\"\"\n",
    "\n",
    "    if num_cols >= num_rows:\n",
    "        \n",
    "        # lower corner\n",
    "        for row in range(num_rows-1, 0, -1):\n",
    "            col = 0\n",
    "            while row < num_rows:\n",
    "                yield row, col\n",
    "                row += 1\n",
    "                col += 1\n",
    "                \n",
    "        # middle\n",
    "        for col in range(0, num_cols-num_rows+1):\n",
    "            row = 0\n",
    "            while row < num_rows:\n",
    "                yield row, col\n",
    "                row += 1\n",
    "                col += 1\n",
    "                \n",
    "        # upper corner\n",
    "        for col in range(num_cols-num_rows+1, num_cols):\n",
    "            row = 0\n",
    "            while col < num_cols:\n",
    "                yield row, col\n",
    "                row += 1\n",
    "                col += 1\n",
    "\n",
    "    if num_rows > num_cols:\n",
    "    \n",
    "        # lower corner\n",
    "        for row in range(num_rows-1, num_rows-num_cols, -1):\n",
    "            col = 0\n",
    "            while row < num_rows:\n",
    "                yield row, col\n",
    "                row += 1\n",
    "                col += 1\n",
    "                \n",
    "        # middle\n",
    "        for row in range(num_rows-num_cols, -1, -1):\n",
    "            col = 0\n",
    "            while col < num_cols:\n",
    "                yield row, col\n",
    "                row += 1\n",
    "                col += 1\n",
    "                \n",
    "        # upper corner\n",
    "        for col in range(1, num_cols):\n",
    "            row = 0\n",
    "            while col < num_cols:\n",
    "                yield row, col\n",
    "                row += 1\n",
    "                col += 1"
   ]
  },
  {
   "cell_type": "code",
   "execution_count": 4,
   "metadata": {},
   "outputs": [
    {
     "name": "stdout",
     "output_type": "stream",
     "text": [
      "11.8 ms ± 970 µs per loop (mean ± std. dev. of 7 runs, 100 loops each)\n"
     ]
    }
   ],
   "source": [
    "%%timeit\n",
    "ci = idx_for_diag_se_from_bl(num_rows=300, num_cols=300)\n",
    "for row, col in ci:\n",
    "    matrix[row][col]"
   ]
  },
  {
   "cell_type": "code",
   "execution_count": 5,
   "metadata": {},
   "outputs": [],
   "source": [
    "def idx_for_diag_se_from_bl_v1(num_rows=2, num_cols=3):\n",
    "    \"\"\"Extra checks\n",
    "    \"\"\"\n",
    "    # lower triangle\n",
    "    for row in range(num_rows, 0, -1):\n",
    "        col = 0\n",
    "        while row < num_rows and col < num_cols:\n",
    "            yield row, col\n",
    "            row += 1\n",
    "            col += 1\n",
    "    \n",
    "    # upper triangle\n",
    "    for col in range(0, num_cols):\n",
    "        row = 0\n",
    "        while row < num_rows and col < num_cols:\n",
    "            yield row, col\n",
    "            row += 1\n",
    "            col += 1"
   ]
  },
  {
   "cell_type": "code",
   "execution_count": 6,
   "metadata": {},
   "outputs": [
    {
     "name": "stdout",
     "output_type": "stream",
     "text": [
      "12.6 ms ± 232 µs per loop (mean ± std. dev. of 7 runs, 100 loops each)\n"
     ]
    }
   ],
   "source": [
    "%%timeit\n",
    "ci = idx_for_diag_se_from_bl_v1(num_rows=300, num_cols=300)\n",
    "for row, col in ci:\n",
    "    matrix[row][col]"
   ]
  },
  {
   "cell_type": "code",
   "execution_count": 7,
   "metadata": {},
   "outputs": [],
   "source": [
    "def idx_for_diag_se_from_bl_v0(num_rows=2, num_cols=3):\n",
    "    \"\"\"Extra loops, extra checks\n",
    "    Very fast for low num_rows\n",
    "    \"\"\"\n",
    "    for col_minus_row in range(-num_cols, num_rows+1):\n",
    "        for col in range(num_rows+col_minus_row):\n",
    "            row = col-col_minus_row\n",
    "            if row >= 0 and col < num_cols :\n",
    "                yield col_minus_row, row, col"
   ]
  },
  {
   "cell_type": "code",
   "execution_count": 8,
   "metadata": {},
   "outputs": [
    {
     "name": "stdout",
     "output_type": "stream",
     "text": [
      "17.6 ms ± 465 µs per loop (mean ± std. dev. of 7 runs, 100 loops each)\n"
     ]
    }
   ],
   "source": [
    "%%timeit\n",
    "ci = idx_for_diag_se_from_bl_v0(num_rows=300, num_cols=300)\n",
    "for col_minus_row, row, col in ci:\n",
    "    matrix[row][col]"
   ]
  },
  {
   "cell_type": "code",
   "execution_count": null,
   "metadata": {},
   "outputs": [],
   "source": []
  }
 ],
 "metadata": {
  "kernelspec": {
   "display_name": "Python 3",
   "language": "python",
   "name": "python3"
  },
  "language_info": {
   "codemirror_mode": {
    "name": "ipython",
    "version": 3
   },
   "file_extension": ".py",
   "mimetype": "text/x-python",
   "name": "python",
   "nbconvert_exporter": "python",
   "pygments_lexer": "ipython3",
   "version": "3.7.6"
  }
 },
 "nbformat": 4,
 "nbformat_minor": 4
}
