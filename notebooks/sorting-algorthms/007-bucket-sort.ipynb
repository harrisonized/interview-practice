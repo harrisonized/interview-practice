{
 "cells": [
  {
   "cell_type": "code",
   "execution_count": 1,
   "metadata": {
    "scrolled": false
   },
   "outputs": [],
   "source": [
    "import os\n",
    "import sys\n",
    "import re\n",
    "project_path = re.match('/.+interview-practice/', os.getcwd())[0]\n",
    "sys.path.append(project_path)\n",
    "\n",
    "from functions.formatting.list_tools import create_intervals\n",
    "from functions.structs.tree import bucketer\n",
    "from functions.structs.sorting import bubble_sort, merge_sort\n",
    "# from functions.structs.sorting import bucket_sort"
   ]
  },
  {
   "cell_type": "code",
   "execution_count": 2,
   "metadata": {},
   "outputs": [],
   "source": [
    "def bucket_sort(array, intervals, sorter=bubble_sort):\n",
    "    \"\"\"Group input array into buckets, sort each bucket, then merge\n",
    "    The bucketer algorithm relies on binary search tree\n",
    "    \n",
    "    Example:\n",
    "    bucket_sort([64, 34, 25, 12, 22, 11, 90], [(0, 25.0), (25.0, 50.0), (50.0, 75.0), (75.0, 100.0)])\n",
    "    \n",
    "    bucketer([64, 34, 25, 12, 22, 11, 90], [(0, 25.0), (25.0, 50.0), (50.0, 75.0), (75.0, 100.0)])\n",
    "    [[12, 22, 11], [34, 25], [64], [90]]\n",
    "    \n",
    "    buckets = [[12, 22, 11], [34, 25], [64], [90]]  # sort each bucket, then merge\n",
    "    return [11, 12, 22, 25, 34, 64, 90]\n",
    "    \"\"\"\n",
    "    \n",
    "    buckets = bucketer(array, intervals)\n",
    "    # print(buckets)\n",
    "    \n",
    "    for bucket in buckets:\n",
    "        bucket = sorter(bucket)\n",
    "\n",
    "    return [num for bucket in buckets for num in bucket]  # unpack buckets"
   ]
  },
  {
   "cell_type": "code",
   "execution_count": 3,
   "metadata": {
    "scrolled": false
   },
   "outputs": [
    {
     "data": {
      "text/plain": [
       "[(0, 25.0), (25.0, 50.0), (50.0, 75.0), (75.0, 100.0)]"
      ]
     },
     "execution_count": 3,
     "metadata": {},
     "output_type": "execute_result"
    }
   ],
   "source": [
    "intervals = create_intervals(0, 100, 4)  # instantiate buckets\n",
    "intervals"
   ]
  },
  {
   "cell_type": "code",
   "execution_count": 4,
   "metadata": {},
   "outputs": [
    {
     "data": {
      "text/plain": [
       "[[12, 22, 11], [34, 25], [64], [90]]"
      ]
     },
     "execution_count": 4,
     "metadata": {},
     "output_type": "execute_result"
    }
   ],
   "source": [
    "bucketer([64, 34, 25, 12, 22, 11, 90], intervals)"
   ]
  },
  {
   "cell_type": "code",
   "execution_count": 5,
   "metadata": {},
   "outputs": [
    {
     "data": {
      "text/plain": [
       "[11, 12, 22, 25, 34, 64, 90]"
      ]
     },
     "execution_count": 5,
     "metadata": {},
     "output_type": "execute_result"
    }
   ],
   "source": [
    "bucket_sort([64, 34, 25, 12, 22, 11, 90], intervals, sorter=merge_sort)"
   ]
  },
  {
   "cell_type": "code",
   "execution_count": null,
   "metadata": {},
   "outputs": [],
   "source": []
  }
 ],
 "metadata": {
  "kernelspec": {
   "display_name": "Python 3",
   "language": "python",
   "name": "python3"
  },
  "language_info": {
   "codemirror_mode": {
    "name": "ipython",
    "version": 3
   },
   "file_extension": ".py",
   "mimetype": "text/x-python",
   "name": "python",
   "nbconvert_exporter": "python",
   "pygments_lexer": "ipython3",
   "version": "3.7.6"
  }
 },
 "nbformat": 4,
 "nbformat_minor": 4
}
