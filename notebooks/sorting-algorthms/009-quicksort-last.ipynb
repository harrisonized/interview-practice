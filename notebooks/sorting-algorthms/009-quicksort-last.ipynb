{
 "cells": [
  {
   "cell_type": "code",
   "execution_count": 1,
   "metadata": {},
   "outputs": [],
   "source": [
    "import os\n",
    "import sys\n",
    "import re\n",
    "project_path = re.match('/.+interview-practice/', os.getcwd())[0]\n",
    "sys.path.append(project_path)\n",
    "\n",
    "# functions.structs.sorting import qs_partition, quick_sort"
   ]
  },
  {
   "cell_type": "code",
   "execution_count": 2,
   "metadata": {},
   "outputs": [],
   "source": [
    "def qs_partition(array, start, stop, to_print=False):\n",
    "    \"\"\" Pick a pivot, Eg. 3\n",
    "    Iterate through the array, Eg. [6, 2, 4, 5, 1, 3]\n",
    "    If the element is smaller than the pivot:\n",
    "        swap with the pivot_idx, then increment the pivot_idx\n",
    "        \n",
    "    Example with pivot_pos='last':\n",
    "    Iterate through [6, 2, 4, 5, 1, 3]  # pivot is ignored!\n",
    "    2 is less than 3, so swap 2 with 6 (pivot_idx=0), new pivot_idx = 1\n",
    "    [2, 6, 4, 5, 1, 3]\n",
    "    1 is less than 3, so swap 1 with 6 (pivot_idx=1), new pivot_idx = 2\n",
    "    [2, 1, 4, 5, 6, 3]\n",
    "    \n",
    "    Swap pivot with the number at pivot_idx\n",
    "    [2, 1, 3, 5, 6, 4]\n",
    "    \n",
    "    pivot=3 is now at correct position of pivot_idx=2\n",
    "    \n",
    "    now quicksort [2, 1] and [5, 6, 4]\n",
    "    \"\"\"\n",
    "    pivot_pos = stop\n",
    "    \n",
    "    pivot = array[pivot_pos]  # try some other pivots\n",
    "    \n",
    "    pivot_idx = start\n",
    "    print(\"before: \", array, pivot_idx, pivot) if to_print else None\n",
    "    for i, num in enumerate(array[start: stop]):\n",
    "        if num <= pivot:\n",
    "            array[i], array[pivot_idx] = array[pivot_idx], array[i]\n",
    "            print(array, array[i], array[pivot_idx]) if to_print else None\n",
    "            pivot_idx += 1\n",
    "            \n",
    "    # move the pivot_num to the pivot_idx\n",
    "    array[pivot_idx], array[pivot_pos] = array[pivot_pos], array[pivot_idx]\n",
    "    \n",
    "    print(\"after: \", array, pivot_idx, pivot) if to_print else None\n",
    "    return array, pivot_idx\n",
    "\n",
    "  \n",
    "def quick_sort(array, start=0, stop=None, to_print=False): \n",
    "    \"\"\" Moves the pivot to the pivot_idx\n",
    "    Numbers < pivot are moved to the left of the pivot_idx.\n",
    "    Numbers > pivot are moved to the right of the pivot_idx.\n",
    "    Recursively sorts left and right subarrays\n",
    "    \"\"\"\n",
    "    if len(array) <= 1:\n",
    "        return array\n",
    "    \n",
    "    if stop==None:\n",
    "        stop=len(array)-1\n",
    "    \n",
    "    if start < stop:\n",
    "        array, pivot_idx = qs_partition(array, start, stop, to_print)\n",
    "  \n",
    "        array = quick_sort(array, start, pivot_idx-1, to_print) \n",
    "        array = quick_sort(array, pivot_idx+1, stop, to_print)\n",
    "    return array"
   ]
  },
  {
   "cell_type": "code",
   "execution_count": 3,
   "metadata": {},
   "outputs": [
    {
     "name": "stdout",
     "output_type": "stream",
     "text": [
      "before:  [6, 2, 4, 5, 1, 3] 0 3\n",
      "[2, 6, 4, 5, 1, 3] 6 2\n",
      "[2, 1, 4, 5, 6, 3] 6 1\n",
      "after:  [2, 1, 3, 5, 6, 4] 2 3\n",
      "before:  [2, 1, 3, 5, 6, 4] 0 1\n",
      "after:  [1, 2, 3, 5, 6, 4] 0 1\n",
      "before:  [1, 2, 3, 5, 6, 4] 3 4\n",
      "after:  [1, 2, 3, 4, 6, 5] 3 4\n",
      "before:  [1, 2, 3, 4, 6, 5] 4 5\n",
      "after:  [1, 2, 3, 4, 5, 6] 4 5\n"
     ]
    },
    {
     "data": {
      "text/plain": [
       "[1, 2, 3, 4, 5, 6]"
      ]
     },
     "execution_count": 3,
     "metadata": {},
     "output_type": "execute_result"
    }
   ],
   "source": [
    "# overall program\n",
    "array = [6, 2, 4, 5, 1, 3]\n",
    "array = quick_sort(array, to_print=True)\n",
    "array"
   ]
  },
  {
   "cell_type": "code",
   "execution_count": 4,
   "metadata": {
    "scrolled": true
   },
   "outputs": [
    {
     "name": "stdout",
     "output_type": "stream",
     "text": [
      "before:  [6, 2, 4, 5, 1, 3] 0 3\n",
      "[2, 6, 4, 5, 1, 3] 6 2\n",
      "[2, 1, 4, 5, 6, 3] 6 1\n",
      "after:  [2, 1, 3, 5, 6, 4] 2 3\n"
     ]
    },
    {
     "data": {
      "text/plain": [
       "([2, 1, 3, 5, 6, 4], 2)"
      ]
     },
     "execution_count": 4,
     "metadata": {},
     "output_type": "execute_result"
    }
   ],
   "source": [
    "# step 1\n",
    "array = [6, 2, 4, 5, 1, 3]\n",
    "array, idx = qs_partition(array, 0, 5, to_print=True)\n",
    "array, idx"
   ]
  },
  {
   "cell_type": "code",
   "execution_count": 5,
   "metadata": {},
   "outputs": [
    {
     "name": "stdout",
     "output_type": "stream",
     "text": [
      "before:  [2, 1, 3, 5, 6, 4] 0 1\n",
      "after:  [1, 2, 3, 5, 6, 4] 0 1\n"
     ]
    },
    {
     "data": {
      "text/plain": [
       "([1, 2, 3, 5, 6, 4], 0)"
      ]
     },
     "execution_count": 5,
     "metadata": {},
     "output_type": "execute_result"
    }
   ],
   "source": [
    "# step 2\n",
    "array = [2, 1, 3, 5, 6, 4]\n",
    "array, idx = qs_partition(array, 0, 1, to_print=True)\n",
    "array, idx"
   ]
  },
  {
   "cell_type": "code",
   "execution_count": 6,
   "metadata": {},
   "outputs": [
    {
     "name": "stdout",
     "output_type": "stream",
     "text": [
      "before:  [1, 2, 3, 5, 6, 4] 3 4\n",
      "after:  [1, 2, 3, 4, 6, 5] 3 4\n"
     ]
    },
    {
     "data": {
      "text/plain": [
       "([1, 2, 3, 4, 6, 5], 3)"
      ]
     },
     "execution_count": 6,
     "metadata": {},
     "output_type": "execute_result"
    }
   ],
   "source": [
    "# step 3\n",
    "array = [1, 2, 3, 5, 6, 4]\n",
    "array, idx = qs_partition(array, 3, 5, to_print=True)\n",
    "array, idx"
   ]
  },
  {
   "cell_type": "code",
   "execution_count": 7,
   "metadata": {},
   "outputs": [
    {
     "name": "stdout",
     "output_type": "stream",
     "text": [
      "before:  [1, 2, 3, 4, 6, 5] 4 5\n",
      "after:  [1, 2, 3, 4, 5, 6] 4 5\n"
     ]
    },
    {
     "data": {
      "text/plain": [
       "([1, 2, 3, 4, 5, 6], 4)"
      ]
     },
     "execution_count": 7,
     "metadata": {},
     "output_type": "execute_result"
    }
   ],
   "source": [
    "# step 4\n",
    "array = [1, 2, 3, 4, 6, 5]\n",
    "array, idx = qs_partition(array, 4, 5, to_print=True)\n",
    "array, idx"
   ]
  },
  {
   "cell_type": "code",
   "execution_count": null,
   "metadata": {},
   "outputs": [],
   "source": []
  }
 ],
 "metadata": {
  "kernelspec": {
   "display_name": "Python 3",
   "language": "python",
   "name": "python3"
  },
  "language_info": {
   "codemirror_mode": {
    "name": "ipython",
    "version": 3
   },
   "file_extension": ".py",
   "mimetype": "text/x-python",
   "name": "python",
   "nbconvert_exporter": "python",
   "pygments_lexer": "ipython3",
   "version": "3.7.6"
  }
 },
 "nbformat": 4,
 "nbformat_minor": 4
}
