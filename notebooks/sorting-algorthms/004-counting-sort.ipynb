{
 "cells": [
  {
   "cell_type": "code",
   "execution_count": 1,
   "metadata": {},
   "outputs": [],
   "source": [
    "import os\n",
    "import sys\n",
    "import re\n",
    "project_path = re.match('/.+interview-practice/', os.getcwd())[0]\n",
    "sys.path.append(project_path)\n",
    "\n",
    "from collections import defaultdict, deque\n",
    "from functions.structs.sorting import idx_hash_table_for_array, map_hash"
   ]
  },
  {
   "cell_type": "code",
   "execution_count": 2,
   "metadata": {},
   "outputs": [],
   "source": [
    "def counting_sort(array: list):\n",
    "    \"\"\"Can only use if range and spacing is known \n",
    "    Build a dictionary with num as keys and list as values (want original memory addresses)\n",
    "    Iterate through the known range, retrieving counts from the dictionary\n",
    "    Use deque because append operation is O(1)\n",
    "    \n",
    "    Runtime is O(n+range)\n",
    "    \"\"\"\n",
    "    array_min, array_max = min(array), max(array)\n",
    "    \n",
    "    counter = defaultdict(dict)\n",
    "    for num in array:\n",
    "        if counter.get(num) is None:\n",
    "            counter[num] = [num]\n",
    "        else:\n",
    "            counter[num].append(num)\n",
    "    \n",
    "    array_idx = 0\n",
    "    for num in range(array_min, array_max+1):\n",
    "        while counter.get(num):\n",
    "            array[array_idx] = counter[num].pop()\n",
    "            array_idx += 1\n",
    "    \n",
    "    return array"
   ]
  },
  {
   "cell_type": "code",
   "execution_count": 3,
   "metadata": {},
   "outputs": [
    {
     "data": {
      "text/plain": [
       "{94811478999808: deque([0, 2]),\n",
       " 94811478999904: deque([1]),\n",
       " 94811478999840: deque([3, 6]),\n",
       " 94811479000000: deque([4]),\n",
       " 94811478999936: deque([5])}"
      ]
     },
     "execution_count": 3,
     "metadata": {},
     "output_type": "execute_result"
    }
   ],
   "source": [
    "array = [1, 4, 1, 2, 7, 5, 2]\n",
    "\n",
    "hash_table = idx_hash_table_for_array(array)\n",
    "hash_table"
   ]
  },
  {
   "cell_type": "code",
   "execution_count": 4,
   "metadata": {},
   "outputs": [
    {
     "data": {
      "text/plain": [
       "[1, 1, 2, 2, 4, 5, 7]"
      ]
     },
     "execution_count": 4,
     "metadata": {},
     "output_type": "execute_result"
    }
   ],
   "source": [
    "array = counting_sort(array)\n",
    "array"
   ]
  },
  {
   "cell_type": "code",
   "execution_count": 7,
   "metadata": {},
   "outputs": [
    {
     "data": {
      "text/plain": [
       "[0, 2, 3, 6, 1, 5, 4]"
      ]
     },
     "execution_count": 7,
     "metadata": {},
     "output_type": "execute_result"
    }
   ],
   "source": [
    "map_hash(array, hash_table)"
   ]
  },
  {
   "cell_type": "code",
   "execution_count": 8,
   "metadata": {},
   "outputs": [
    {
     "data": {
      "text/plain": [
       "{94280160043776: deque([0, 2]),\n",
       " 94280160043872: deque([1]),\n",
       " 94280160043808: deque([3, 6]),\n",
       " 94280160043968: deque([4]),\n",
       " 94280160043904: deque([5])}"
      ]
     },
     "execution_count": 8,
     "metadata": {},
     "output_type": "execute_result"
    }
   ],
   "source": [
    "hash_table"
   ]
  },
  {
   "cell_type": "code",
   "execution_count": null,
   "metadata": {},
   "outputs": [],
   "source": []
  }
 ],
 "metadata": {
  "kernelspec": {
   "display_name": "Python 3",
   "language": "python",
   "name": "python3"
  },
  "language_info": {
   "codemirror_mode": {
    "name": "ipython",
    "version": 3
   },
   "file_extension": ".py",
   "mimetype": "text/x-python",
   "name": "python",
   "nbconvert_exporter": "python",
   "pygments_lexer": "ipython3",
   "version": "3.7.6"
  }
 },
 "nbformat": 4,
 "nbformat_minor": 4
}
