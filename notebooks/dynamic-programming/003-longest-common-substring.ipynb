{
 "cells": [
  {
   "cell_type": "markdown",
   "metadata": {},
   "source": [
    "This was largely an exercise in using loops and matrix indices."
   ]
  },
  {
   "cell_type": "code",
   "execution_count": 1,
   "metadata": {},
   "outputs": [],
   "source": [
    "import os\n",
    "import sys\n",
    "import re\n",
    "project_path = re.match('/.+interview-practice/', os.getcwd())[0]\n",
    "sys.path.append(project_path)\n",
    "\n",
    "from functions.alignment_tools.alignment_tools import longest_common_substring"
   ]
  },
  {
   "cell_type": "code",
   "execution_count": 2,
   "metadata": {},
   "outputs": [
    {
     "data": {
      "text/plain": [
       "[{'start': (4, 5), 'len': 1, 'match': 'f'},\n",
       " {'start': (1, 1), 'len': 3, 'match': 'bcd'}]"
      ]
     },
     "execution_count": 2,
     "metadata": {},
     "output_type": "execute_result"
    }
   ],
   "source": [
    "results = longest_common_substring(\"abcdaf\", \"zbcdf\")\n",
    "results"
   ]
  },
  {
   "cell_type": "code",
   "execution_count": 3,
   "metadata": {
    "scrolled": true
   },
   "outputs": [
    {
     "data": {
      "text/plain": [
       "[{'start': (1, 5), 'len': 3, 'match': 'abc'},\n",
       " {'start': (1, 4), 'len': 1, 'match': 'a'},\n",
       " {'start': (1, 1), 'len': 3, 'match': 'abc'},\n",
       " {'start': (5, 5), 'len': 3, 'match': 'abc'},\n",
       " {'start': (1, 0), 'len': 1, 'match': 'a'},\n",
       " {'start': (5, 4), 'len': 1, 'match': 'a'},\n",
       " {'start': (5, 1), 'len': 3, 'match': 'abc'},\n",
       " {'start': (5, 0), 'len': 1, 'match': 'a'}]"
      ]
     },
     "execution_count": 3,
     "metadata": {},
     "output_type": "execute_result"
    }
   ],
   "source": [
    "# two substrings in diagonal\n",
    "results = longest_common_substring(\"aabcaabc\", \"zabczabc\")\n",
    "results"
   ]
  },
  {
   "cell_type": "code",
   "execution_count": 4,
   "metadata": {},
   "outputs": [
    {
     "data": {
      "text/plain": [
       "[{'start': (0, 2), 'len': 1, 'match': 'a'},\n",
       " {'start': (0, 1), 'len': 2, 'match': 'aa'},\n",
       " {'start': (4, 5), 'len': 1, 'match': 'c'},\n",
       " {'start': (0, 0), 'len': 3, 'match': 'aaa'},\n",
       " {'start': (4, 4), 'len': 2, 'match': 'cc'},\n",
       " {'start': (1, 0), 'len': 5, 'match': 'aaacc'},\n",
       " {'start': (2, 0), 'len': 2, 'match': 'aa'},\n",
       " {'start': (5, 3), 'len': 1, 'match': 'c'},\n",
       " {'start': (3, 0), 'len': 1, 'match': 'a'}]"
      ]
     },
     "execution_count": 4,
     "metadata": {},
     "output_type": "execute_result"
    }
   ],
   "source": [
    "# repetitive letters\n",
    "results = longest_common_substring(\"aaaccc\", \"aaaacc\")\n",
    "results"
   ]
  },
  {
   "cell_type": "code",
   "execution_count": null,
   "metadata": {},
   "outputs": [],
   "source": []
  }
 ],
 "metadata": {
  "kernelspec": {
   "display_name": "Python 3",
   "language": "python",
   "name": "python3"
  },
  "language_info": {
   "codemirror_mode": {
    "name": "ipython",
    "version": 3
   },
   "file_extension": ".py",
   "mimetype": "text/x-python",
   "name": "python",
   "nbconvert_exporter": "python",
   "pygments_lexer": "ipython3",
   "version": "3.7.6"
  }
 },
 "nbformat": 4,
 "nbformat_minor": 4
}
