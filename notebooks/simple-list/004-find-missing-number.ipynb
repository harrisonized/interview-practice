{
 "cells": [
  {
   "cell_type": "code",
   "execution_count": 18,
   "metadata": {},
   "outputs": [],
   "source": [
    "def find_missing_number(numbers):\n",
    "    \"\"\"How do you find the missing number in a given integer array of 1 to 100?\"\"\"\n",
    "    assert len(numbers) > 0, \"numbers is empty\"\n",
    "    \n",
    "    curr_num = numbers[0]\n",
    "    for num in numbers[1:]:\n",
    "        if num-curr_num > 1:\n",
    "            return curr_num + 1\n",
    "        curr_num = num\n",
    "        \n",
    "    if curr_num == 100:\n",
    "        return print(\"no numbers missing\")\n",
    "    else:\n",
    "        return curr_num + 1"
   ]
  },
  {
   "cell_type": "code",
   "execution_count": null,
   "metadata": {},
   "outputs": [],
   "source": []
  }
 ],
 "metadata": {
  "kernelspec": {
   "display_name": "Python 3",
   "language": "python",
   "name": "python3"
  },
  "language_info": {
   "codemirror_mode": {
    "name": "ipython",
    "version": 3
   },
   "file_extension": ".py",
   "mimetype": "text/x-python",
   "name": "python",
   "nbconvert_exporter": "python",
   "pygments_lexer": "ipython3",
   "version": "3.7.6"
  }
 },
 "nbformat": 4,
 "nbformat_minor": 4
}
