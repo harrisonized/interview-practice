{
 "cells": [
  {
   "cell_type": "code",
   "execution_count": 44,
   "metadata": {},
   "outputs": [
    {
     "data": {
      "text/plain": [
       "[1, 2, 5]"
      ]
     },
     "execution_count": 44,
     "metadata": {},
     "output_type": "execute_result"
    }
   ],
   "source": [
    "from collections import Counter\n",
    "\n",
    "def find_duplicates(items):\n",
    "    \"\"\"How do you find the duplicate number on a given integer array?\n",
    "    Use list comprehension and counter\n",
    "    \"\"\"\n",
    "    counter = Counter(items)\n",
    "    return [item for item, count in counter.items() if count > 1]\n",
    "\n",
    "a = [1,2,3,2,1,5,6,5,5,5]\n",
    "find_duplicates(a)"
   ]
  },
  {
   "cell_type": "code",
   "execution_count": 45,
   "metadata": {},
   "outputs": [
    {
     "data": {
      "text/plain": [
       "[1, 2, 5]"
      ]
     },
     "execution_count": 45,
     "metadata": {},
     "output_type": "execute_result"
    }
   ],
   "source": [
    "from collections import defaultdict\n",
    "\n",
    "def find_duplicates(items):\n",
    "    \"\"\"How do you find the duplicate number on a given integer array?\n",
    "    defaultdict as a substitute for counter\n",
    "    \"\"\"\n",
    "    counter = defaultdict(int)\n",
    "    for item in items:\n",
    "        counter[item] += 1\n",
    "    return [item for item, count in counter.items() if count > 1]\n",
    "\n",
    "a = [1,2,3,2,1,5,6,5,5,5]\n",
    "find_duplicates(a)"
   ]
  },
  {
   "cell_type": "code",
   "execution_count": null,
   "metadata": {},
   "outputs": [],
   "source": []
  }
 ],
 "metadata": {
  "kernelspec": {
   "display_name": "Python 3",
   "language": "python",
   "name": "python3"
  },
  "language_info": {
   "codemirror_mode": {
    "name": "ipython",
    "version": 3
   },
   "file_extension": ".py",
   "mimetype": "text/x-python",
   "name": "python",
   "nbconvert_exporter": "python",
   "pygments_lexer": "ipython3",
   "version": "3.7.6"
  }
 },
 "nbformat": 4,
 "nbformat_minor": 4
}
