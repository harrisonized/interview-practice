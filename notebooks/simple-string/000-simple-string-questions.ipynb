{
 "cells": [
  {
   "cell_type": "code",
   "execution_count": null,
   "metadata": {},
   "outputs": [],
   "source": [
    "# How do you print duplicate characters from a string?\n",
    "# How do you check if two strings are anagrams of each other?\n",
    "# How do you print the first non-repeated character from a string?\n",
    "# How can a given string be reversed using recursion?\n",
    "# How do you check if a string contains only digits?\n",
    "# How are duplicate characters found in a string?\n",
    "# How do you count a number of vowels and consonants in a given string?\n",
    "# How do you count the occurrence of a given character in a string?\n",
    "# How do you find all permutations of a string?\n",
    "# How do you reverse words in a given sentence without using any library method?\n",
    "# How do you check if two strings are a rotation of each other?"
   ]
  }
 ],
 "metadata": {
  "kernelspec": {
   "display_name": "Python 3",
   "language": "python",
   "name": "python3"
  },
  "language_info": {
   "codemirror_mode": {
    "name": "ipython",
    "version": 3
   },
   "file_extension": ".py",
   "mimetype": "text/x-python",
   "name": "python",
   "nbconvert_exporter": "python",
   "pygments_lexer": "ipython3",
   "version": "3.7.6"
  }
 },
 "nbformat": 4,
 "nbformat_minor": 4
}
