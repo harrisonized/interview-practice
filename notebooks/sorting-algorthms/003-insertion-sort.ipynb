{
 "cells": [
  {
   "cell_type": "code",
   "execution_count": 1,
   "metadata": {},
   "outputs": [],
   "source": [
    "import os\n",
    "import sys\n",
    "import re\n",
    "project_path = re.match('/.+interview-practice/', os.getcwd())[0]\n",
    "sys.path.append(project_path)\n",
    "\n",
    "from functions.structs.sorting import insertion_sort"
   ]
  },
  {
   "cell_type": "code",
   "execution_count": 2,
   "metadata": {},
   "outputs": [],
   "source": [
    "def insertion_sort(array: list, to_print=False):\n",
    "    \"\"\"Sorts in-place\n",
    "    \n",
    "    Example:\n",
    "    array = [64, 34, 25, 12, 22, 11, 90]\n",
    "    \n",
    "    l, ln, \n",
    "    0, [64, 34, 25, 12, 22, 11, 90]\n",
    "    compare 34 and 64, 34 < 64 so array[0] = 34 and array[1] = 64\n",
    "    \n",
    "    1, [34, 64, 25, 12, 22, 11, 90]\n",
    "    compare 25 and 34, 25 < 34 so array[0] = 25, array[1] = 34, array[2] = 64\n",
    "    \n",
    "    2, [25, 34, 64, 12, 22, 11, 90]\n",
    "    compare 12 and 25, 12 < 25, so array[0] = 12, array[1] = 25, array[2] = 34, array[3] = 64\n",
    "    \n",
    "    3, [12, 25, 34, 64, 22, 11, 90]\n",
    "    compare 22 and 12, 22 > 12 so skip. 22 < 25, so array[1] = 22, array[2] = 25, array[3] = 34, array[4] = 64\n",
    "\n",
    "    4, [12, 22, 25, 34, 64, 11, 90]\n",
    "    5, [11, 12, 22, 25, 34, 64, 90]\n",
    "    \n",
    "    During each loop from l to n, array[0:l] is considered sorted.\n",
    "    Move the next element to the appropriate position in the sorted part.\n",
    "    \"\"\"\n",
    "    array_len = len(array)\n",
    "    \n",
    "    for loop_idx in range(1, array_len):\n",
    "        \n",
    "        insert_num = array[loop_idx]\n",
    "\n",
    "        for i, curr_num in enumerate(array[0:loop_idx]):\n",
    "            \n",
    "            print(loop_idx, insert_num, curr_num, array) if to_print else None\n",
    "            if insert_num < curr_num:\n",
    "                array[i], insert_num = insert_num, curr_num\n",
    "                \n",
    "        array[i+1] = insert_num\n",
    "        \n",
    "    return array"
   ]
  },
  {
   "cell_type": "code",
   "execution_count": 3,
   "metadata": {},
   "outputs": [
    {
     "data": {
      "text/plain": [
       "[11, 12, 22, 25, 34, 64, 90]"
      ]
     },
     "execution_count": 3,
     "metadata": {},
     "output_type": "execute_result"
    }
   ],
   "source": [
    "array = [64, 34, 25, 12, 22, 11, 90]\n",
    "array = insertion_sort(array)\n",
    "array"
   ]
  },
  {
   "cell_type": "code",
   "execution_count": null,
   "metadata": {},
   "outputs": [],
   "source": []
  }
 ],
 "metadata": {
  "kernelspec": {
   "display_name": "Python 3",
   "language": "python",
   "name": "python3"
  },
  "language_info": {
   "codemirror_mode": {
    "name": "ipython",
    "version": 3
   },
   "file_extension": ".py",
   "mimetype": "text/x-python",
   "name": "python",
   "nbconvert_exporter": "python",
   "pygments_lexer": "ipython3",
   "version": "3.7.6"
  }
 },
 "nbformat": 4,
 "nbformat_minor": 4
}
