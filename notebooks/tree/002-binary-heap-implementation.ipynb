{
 "cells": [
  {
   "cell_type": "code",
   "execution_count": 1,
   "metadata": {},
   "outputs": [],
   "source": [
    "# basically like a binary tree, but inserts at left-most position, every position is filled\n",
    "# heapify means creating a binary heap out of a binary tree\n",
    "\n",
    "import os\n",
    "import sys\n",
    "import re\n",
    "project_path = re.match('/.+interview-practice/', os.getcwd())[0]\n",
    "sys.path.append(project_path)\n",
    "\n",
    "from operator import attrgetter\n",
    "from collections import deque\n",
    "from functions.custom_errors import NodeNotFoundError\n",
    "# from functions.structs.tree import Node, BinaryHeap, binary_heap_from_array"
   ]
  },
  {
   "cell_type": "code",
   "execution_count": 2,
   "metadata": {},
   "outputs": [],
   "source": [
    "def binary_heap_from_array(array):\n",
    "    heap = BinaryHeap(Node(array[0]))\n",
    "    for item in array[1:]:\n",
    "        heap.insert(Node(item))\n",
    "    return heap"
   ]
  },
  {
   "cell_type": "code",
   "execution_count": 3,
   "metadata": {},
   "outputs": [],
   "source": [
    "class Node:\n",
    "    def __init__(self, data=None):\n",
    "        self.data = data\n",
    "        self.left = None\n",
    "        self.right = None\n",
    "\n",
    "class BinaryHeap:\n",
    "    \"\"\"Make sure to only add Node objects to the Binary Heap\n",
    "    \n",
    "    Example 1: Using insert only\n",
    "    source: https://www.tutorialspoint.com/python_data_structure/python_tree_traversal_algorithms.htm\n",
    "            2\n",
    "         /    \\\n",
    "       10      9\n",
    "      /  \\    /\n",
    "     5    6  1\n",
    "    \n",
    "    heap = BinaryHeap(Node(2))\n",
    "    heap.insert(Node(10))\n",
    "    heap.insert(Node(9))\n",
    "    heap.insert(Node(5))\n",
    "    heap.insert(Node(6))\n",
    "    heap.insert(Node(1))\n",
    "    \"\"\"\n",
    "    \n",
    "    def __init__(self, root=None):\n",
    "        self.root = root\n",
    "            \n",
    "    def find_parent(self, curr_node):\n",
    "        for parent_node in self.iterative_inorder():\n",
    "            if (parent_node.left == curr_node) or parent_node.right == curr_node:\n",
    "                return parent_node\n",
    "        \n",
    "    def swap(self, curr_node, child_node):\n",
    "        \"\"\"swap links on curr and child nodes\n",
    "        update root if swap\n",
    "        \"\"\"\n",
    "        if curr_node == self.root:\n",
    "            self.root = child_node\n",
    "        \n",
    "        if curr_node.left == child_node:\n",
    "            curr_node.right, child_node.right = child_node.right, curr_node.right\n",
    "            curr_node.left, child_node.left = child_node.left, curr_node\n",
    "            \n",
    "        elif curr_node.right == child_node:\n",
    "            curr_node.left, child_node.left = child_node.left, curr_node.left\n",
    "            curr_node.right, child_node.right = child_node.right, curr_node\n",
    "\n",
    "    def heapsort(self):\n",
    "        \"\"\"Only swaps one-layer deep\n",
    "        Traverses from bottom up in postorder\n",
    "        \n",
    "        In the future: try to recurse down and place the new node at the right spot\n",
    "        For now, can just keep rerunning this, it will eventually sort itself\n",
    "        \"\"\"\n",
    "        \n",
    "        for curr_node in self.recursive_postorder():\n",
    "            try:\n",
    "                print(curr_node.data, prev_node.data)\n",
    "            except:\n",
    "                print(curr_node.data, None)\n",
    "            \n",
    "            max_node = max([node for node in [curr_node, curr_node.left, curr_node.right] if node is not None],\n",
    "                           key=attrgetter(\"data\"))\n",
    "            \n",
    "            if max_node == curr_node.left:\n",
    "                \n",
    "                parent_node = self.find_parent(curr_node)\n",
    "                if parent_node:\n",
    "                    if parent_node.left == curr_node:\n",
    "                        parent_node.left = curr_node.left\n",
    "                    elif parent_node.right == curr_node:\n",
    "                        parent_node.right = curr_node.left\n",
    "\n",
    "                print('swap left', curr_node.data, curr_node.left.data)\n",
    "                self.swap(curr_node, curr_node.left)\n",
    "                    \n",
    "            elif max_node == curr_node.right:\n",
    "                \n",
    "                parent_node = self.find_parent(curr_node)\n",
    "                if parent_node:\n",
    "                    if parent_node.left == curr_node:\n",
    "                        parent_node.left = curr_node.right\n",
    "                    elif parent_node.right == curr_node:\n",
    "                        parent_node.right = curr_node.right\n",
    "\n",
    "                print('swap right', curr_node.data, curr_node.right.data)\n",
    "                self.swap(curr_node, curr_node.right)\n",
    "\n",
    "            else:\n",
    "                pass\n",
    "                    \n",
    "            prev_node = curr_node            \n",
    "                    \n",
    "\n",
    "    def insert(self, new_node):\n",
    "        \"\"\"level order insert\n",
    "        See: https://www.geeksforgeeks.org/insertion-in-a-binary-tree-in-level-order/\n",
    "        \"\"\"\n",
    "        if self.root is None:\n",
    "            self.root = new_node\n",
    "        \n",
    "        for node in self.iterative_levelorder():\n",
    "            if not node.left:\n",
    "                node.left = new_node\n",
    "                break\n",
    "\n",
    "            if not node.right:\n",
    "                node.right = new_node\n",
    "                break\n",
    "            \n",
    "    def recursive_inorder(self, node='default'):\n",
    "        \"\"\"traverse recursively\n",
    "        left -> root -> right\n",
    "        \"\"\"\n",
    "        \n",
    "        if node=='default':\n",
    "            node = self.root\n",
    "\n",
    "        if node.left:\n",
    "            yield from self.recursive_inorder(node.left)\n",
    "            \n",
    "        yield node\n",
    "        \n",
    "        if node.right:\n",
    "            yield from self.recursive_inorder(node.right)\n",
    "            \n",
    "    def recursive_postorder(self, node='default'):\n",
    "        \"\"\"traverse recursively\n",
    "        left -> right -> root\n",
    "        \"\"\"\n",
    "        \n",
    "        if node=='default':\n",
    "            node = self.root\n",
    "        \n",
    "        if node.left:\n",
    "            yield from self.recursive_postorder(node.left)\n",
    "        \n",
    "        if node.right:\n",
    "            yield from self.recursive_postorder(node.right)\n",
    "            \n",
    "        yield node\n",
    "        \n",
    "    def iterative_levelorder(self, node='default'):\n",
    "        \"\"\"traverse iteratively\n",
    "        add current level elements to stack and pop them to return\n",
    "        \"\"\"\n",
    "        \n",
    "        stack = deque()\n",
    "        stack.append(self.root)\n",
    "\n",
    "        while stack:\n",
    "            node = stack.popleft()\n",
    "            yield node\n",
    "\n",
    "            if node.left is not None:\n",
    "                stack.append(node.left)\n",
    "\n",
    "            if node.right is not None:\n",
    "                stack.append(node.right)\n",
    "                \n",
    "    def iterative_inorder(self, node='default'):\n",
    "        \"\"\"See: https://www.geeksforgeeks.org/inorder-tree-traversal-without-recursion/\n",
    "        \n",
    "        1) Create an empty stack.\n",
    "        2) Initialize current node as root\n",
    "        3) Push the current node to S and set current = current->left until current is NULL\n",
    "        4) If current is NULL and stack is not empty then \n",
    "             a) Pop the top item from stack.\n",
    "             b) Print the popped item, set current = popped_item->right \n",
    "             c) Go to step 3.\n",
    "        5) If current is NULL and stack is empty then we are done.\n",
    "        \n",
    "        Example 1:\n",
    "        add 27, add 14, add 10, pop 10, return 10, node.right=None\n",
    "        pop 14, return 14, node.right=19\n",
    "        add 19, pop 19, return 19, node.right=None\n",
    "        pop 27, return 27, node.right=35\n",
    "        add 35, add 31, pop 31, return 31, node.right=None\n",
    "        pop 35, return 35, node.right=42\n",
    "        add 42, pop 42, return 42, node.right=None\n",
    "        \"\"\"\n",
    "        \n",
    "        if node=='default':\n",
    "            node = self.root\n",
    "            \n",
    "        stack = deque()\n",
    "        \n",
    "        while True:\n",
    "            # during first loop, adds all left nodes to stack\n",
    "            # during subsequent loops, may add if node.right exists\n",
    "            while node is not None:\n",
    "                stack.append(node)\n",
    "                node = node.left\n",
    "            \n",
    "            if stack:\n",
    "                node = stack.pop()\n",
    "                yield node\n",
    "                node = node.right  # adds node.right to stack if it exists\n",
    "                \n",
    "            else:\n",
    "                break\n",
    "\n",
    "    def print_tree(self, order='inorder'):\n",
    "        i = 0\n",
    "        if order == 'inorder':\n",
    "            \n",
    "            for node in self.recursive_inorder():\n",
    "                print(node.data)\n",
    "                i += 1\n",
    "                if i == 100:\n",
    "                    break\n",
    "                \n",
    "        if order == 'levelorder':\n",
    "            for node in self.iterative_levelorder():\n",
    "                print(node.data)\n",
    "                i += 1\n",
    "                if i == 100:\n",
    "                    break"
   ]
  },
  {
   "cell_type": "code",
   "execution_count": 4,
   "metadata": {},
   "outputs": [],
   "source": [
    "a = Node(2)\n",
    "b = Node(10)\n",
    "c = Node(9)\n",
    "d = Node(5)\n",
    "e = Node(6)\n",
    "f = Node(1)\n",
    "\n",
    "heap = BinaryHeap(a)\n",
    "heap.insert(b)\n",
    "heap.insert(c)\n",
    "heap.insert(d)\n",
    "heap.insert(e)\n",
    "heap.insert(f)"
   ]
  },
  {
   "cell_type": "code",
   "execution_count": 5,
   "metadata": {},
   "outputs": [
    {
     "name": "stdout",
     "output_type": "stream",
     "text": [
      "5 None\n",
      "6 5\n",
      "10 6\n",
      "1 10\n",
      "9 1\n",
      "2 9\n",
      "swap left 2 10\n"
     ]
    }
   ],
   "source": [
    "heap.heapsort()"
   ]
  },
  {
   "cell_type": "code",
   "execution_count": 6,
   "metadata": {},
   "outputs": [
    {
     "name": "stdout",
     "output_type": "stream",
     "text": [
      "10\n",
      "2\n",
      "9\n",
      "5\n",
      "6\n",
      "1\n"
     ]
    }
   ],
   "source": [
    "heap.print_tree(\"levelorder\")"
   ]
  },
  {
   "cell_type": "code",
   "execution_count": 7,
   "metadata": {},
   "outputs": [
    {
     "name": "stdout",
     "output_type": "stream",
     "text": [
      "5 None\n",
      "6 5\n",
      "2 6\n",
      "swap right 2 6\n",
      "1 2\n",
      "9 1\n",
      "10 9\n"
     ]
    }
   ],
   "source": [
    "heap.heapsort()"
   ]
  },
  {
   "cell_type": "code",
   "execution_count": 8,
   "metadata": {},
   "outputs": [
    {
     "name": "stdout",
     "output_type": "stream",
     "text": [
      "10\n",
      "6\n",
      "9\n",
      "5\n",
      "2\n",
      "1\n"
     ]
    }
   ],
   "source": [
    "heap.print_tree(\"levelorder\")"
   ]
  },
  {
   "cell_type": "code",
   "execution_count": 9,
   "metadata": {
    "scrolled": true
   },
   "outputs": [
    {
     "data": {
      "text/plain": [
       "10"
      ]
     },
     "execution_count": 9,
     "metadata": {},
     "output_type": "execute_result"
    }
   ],
   "source": [
    "heap.root.data"
   ]
  },
  {
   "cell_type": "code",
   "execution_count": 10,
   "metadata": {},
   "outputs": [
    {
     "data": {
      "text/plain": [
       "6"
      ]
     },
     "execution_count": 10,
     "metadata": {},
     "output_type": "execute_result"
    }
   ],
   "source": [
    "heap.root.left.data"
   ]
  },
  {
   "cell_type": "code",
   "execution_count": 11,
   "metadata": {},
   "outputs": [
    {
     "data": {
      "text/plain": [
       "5"
      ]
     },
     "execution_count": 11,
     "metadata": {},
     "output_type": "execute_result"
    }
   ],
   "source": [
    "heap.root.left.left.data"
   ]
  },
  {
   "cell_type": "code",
   "execution_count": 12,
   "metadata": {},
   "outputs": [
    {
     "data": {
      "text/plain": [
       "2"
      ]
     },
     "execution_count": 12,
     "metadata": {},
     "output_type": "execute_result"
    }
   ],
   "source": [
    "heap.root.left.right.data"
   ]
  },
  {
   "cell_type": "code",
   "execution_count": 13,
   "metadata": {},
   "outputs": [
    {
     "data": {
      "text/plain": [
       "9"
      ]
     },
     "execution_count": 13,
     "metadata": {},
     "output_type": "execute_result"
    }
   ],
   "source": [
    "heap.root.right.data"
   ]
  },
  {
   "cell_type": "code",
   "execution_count": 14,
   "metadata": {},
   "outputs": [
    {
     "data": {
      "text/plain": [
       "1"
      ]
     },
     "execution_count": 14,
     "metadata": {},
     "output_type": "execute_result"
    }
   ],
   "source": [
    "heap.root.right.left.data"
   ]
  },
  {
   "cell_type": "code",
   "execution_count": null,
   "metadata": {},
   "outputs": [],
   "source": []
  }
 ],
 "metadata": {
  "kernelspec": {
   "display_name": "Python 3",
   "language": "python",
   "name": "python3"
  },
  "language_info": {
   "codemirror_mode": {
    "name": "ipython",
    "version": 3
   },
   "file_extension": ".py",
   "mimetype": "text/x-python",
   "name": "python",
   "nbconvert_exporter": "python",
   "pygments_lexer": "ipython3",
   "version": "3.7.6"
  }
 },
 "nbformat": 4,
 "nbformat_minor": 4
}
