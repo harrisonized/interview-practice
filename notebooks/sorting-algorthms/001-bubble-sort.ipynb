{
 "cells": [
  {
   "cell_type": "code",
   "execution_count": 1,
   "metadata": {},
   "outputs": [],
   "source": [
    "import os\n",
    "import sys\n",
    "import re\n",
    "project_path = re.match('/.+interview-practice/', os.getcwd())[0]\n",
    "sys.path.append(project_path)\n",
    "\n",
    "from functions.structs.sorting import idx_hash_table_for_array\n",
    "# from functions.structs.sorting import bubble_sort"
   ]
  },
  {
   "cell_type": "code",
   "execution_count": 2,
   "metadata": {},
   "outputs": [],
   "source": [
    "def bubble_sort(array: list, to_print=False):\n",
    "    \"\"\"Sorts in-place\n",
    "    \n",
    "    Example:\n",
    "    array = [64, 34, 25, 12, 22, 11, 90]\n",
    "    \n",
    "    During each loop, traverse from 1 to n-l, where l is the loop number\n",
    "    Keep track of curr_num and prev_num\n",
    "    If prev_num > curr_num, swap them\n",
    "    \n",
    "    l, pn, array\n",
    "    0, 90, [34, 25, 12, 22, 11, 64, 90]\n",
    "    1, 64, [25, 12, 22, 11, 34, 64, 90]\n",
    "    2, 34, [12, 22, 11, 25, 34, 64, 90]\n",
    "    3, 25, [12, 11, 22, 25, 34, 64, 90]\n",
    "    4, 22, [11, 12, 22, 25, 34, 64, 90]\n",
    "    5, 12, [11, 12, 22, 25, 34, 64, 90]\n",
    "    6, 11, [11, 12, 22, 25, 34, 64, 90]\n",
    "    \"\"\"\n",
    "    array_len = len(array)\n",
    "\n",
    "    for loop_idx in range(array_len):\n",
    "        \n",
    "        prev_num = array[0]  # skip first index, look backward\n",
    "        for i, curr_num in enumerate(array[1:array_len-loop_idx], 1):\n",
    "\n",
    "            if prev_num > curr_num:\n",
    "                array[i-1], array[i] = array[i], array[i-1]  # swap\n",
    "                curr_num = prev_num  # swap\n",
    "\n",
    "            prev_num = curr_num\n",
    "            \n",
    "        print(loop_idx, prev_num, array) if to_print==True else None\n",
    "        \n",
    "    return array"
   ]
  },
  {
   "cell_type": "code",
   "execution_count": 3,
   "metadata": {},
   "outputs": [
    {
     "data": {
      "text/plain": [
       "[11, 12, 22, 25, 34, 64, 90]"
      ]
     },
     "execution_count": 3,
     "metadata": {},
     "output_type": "execute_result"
    }
   ],
   "source": [
    "array = [64, 34, 25, 12, 22, 11, 90]\n",
    "array = bubble_sort(array)\n",
    "array"
   ]
  },
  {
   "cell_type": "code",
   "execution_count": null,
   "metadata": {},
   "outputs": [],
   "source": []
  }
 ],
 "metadata": {
  "kernelspec": {
   "display_name": "Python 3",
   "language": "python",
   "name": "python3"
  },
  "language_info": {
   "codemirror_mode": {
    "name": "ipython",
    "version": 3
   },
   "file_extension": ".py",
   "mimetype": "text/x-python",
   "name": "python",
   "nbconvert_exporter": "python",
   "pygments_lexer": "ipython3",
   "version": "3.7.6"
  }
 },
 "nbformat": 4,
 "nbformat_minor": 4
}
