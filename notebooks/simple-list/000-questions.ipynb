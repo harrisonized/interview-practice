{
 "cells": [
  {
   "cell_type": "code",
   "execution_count": null,
   "metadata": {},
   "outputs": [],
   "source": [
    "# How do you reverse an array in place in Python?  array.reverse() is in place\n",
    "# How do you find the largest and smallest number in an unsorted integer array?\n",
    "\n",
    "# How are duplicates removed from a given array in Python?\n",
    "# How are duplicates removed from an array without using any library?\n",
    "# How do you find duplicate numbers in an array if it contains multiple duplicates?\n",
    "\n",
    "# How do you remove duplicates from a sorted array in place?\n",
    "# How do you find all pairs of an integer array whose sum is equal to a given number?"
   ]
  }
 ],
 "metadata": {
  "kernelspec": {
   "display_name": "Python 3",
   "language": "python",
   "name": "python3"
  },
  "language_info": {
   "codemirror_mode": {
    "name": "ipython",
    "version": 3
   },
   "file_extension": ".py",
   "mimetype": "text/x-python",
   "name": "python",
   "nbconvert_exporter": "python",
   "pygments_lexer": "ipython3",
   "version": "3.7.6"
  }
 },
 "nbformat": 4,
 "nbformat_minor": 4
}
