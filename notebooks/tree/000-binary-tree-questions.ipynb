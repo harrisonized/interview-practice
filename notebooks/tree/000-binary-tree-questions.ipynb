{
 "cells": [
  {
   "cell_type": "code",
   "execution_count": 1,
   "metadata": {},
   "outputs": [],
   "source": [
    "# How is a binary search tree implemented?\n",
    "\n",
    "# Easy\n",
    "# How do you perform an inorder traversal in a given binary tree?\n",
    "# How do you perform preorder traversal in a given binary tree?\n",
    "# How do you implement a postorder traversal algorithm?\n",
    "# How are all leaves of a binary search tree printed?\n",
    "# How do you count a number of leaf nodes in a given binary tree?\n",
    "\n",
    "# Medium\n",
    "# How do you print all nodes of a given binary tree using inorder traversal without recursion?\n",
    "# How do you traverse a given binary tree in preorder without recursion?\n",
    "# How do you traverse a binary tree in postorder traversal without recursion?\n",
    "# How do you perform a binary search in a given array?\n",
    "\n",
    "# Hard\n",
    "# How do you balance a binary tree?  (maybe traverse inorder and insert into a new tree?)"
   ]
  },
  {
   "cell_type": "code",
   "execution_count": null,
   "metadata": {},
   "outputs": [],
   "source": []
  }
 ],
 "metadata": {
  "kernelspec": {
   "display_name": "Python 3",
   "language": "python",
   "name": "python3"
  },
  "language_info": {
   "codemirror_mode": {
    "name": "ipython",
    "version": 3
   },
   "file_extension": ".py",
   "mimetype": "text/x-python",
   "name": "python",
   "nbconvert_exporter": "python",
   "pygments_lexer": "ipython3",
   "version": "3.7.6"
  }
 },
 "nbformat": 4,
 "nbformat_minor": 4
}
