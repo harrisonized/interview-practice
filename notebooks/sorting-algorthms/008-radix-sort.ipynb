{
 "cells": [
  {
   "cell_type": "code",
   "execution_count": 1,
   "metadata": {},
   "outputs": [],
   "source": [
    "import os\n",
    "import sys\n",
    "import re\n",
    "project_path = re.match('/.+interview-practice/', os.getcwd())[0]\n",
    "sys.path.append(project_path)\n",
    "\n",
    "from collections import deque\n",
    "from functions.math.numbers import get_digit\n",
    "from functions.structs.sorting import idx_hash_table_for_array, map_hash\n",
    "# from functions.structs.sorting import radix_sort"
   ]
  },
  {
   "cell_type": "code",
   "execution_count": 2,
   "metadata": {},
   "outputs": [],
   "source": [
    "def radix_sort(array, to_print=False):\n",
    "    \"\"\" Sort each decimal place, then join\n",
    "    Like bucket_sort, but for each decimal place\n",
    "    Use hashtables to preserve original object\n",
    "    \n",
    "    Example:\n",
    "    array = [1, 203, 10, 14]\n",
    "    radix_sort(array)\n",
    "    \n",
    "    {1: deque([1]), 0: deque([10]), 4: deque([14]), 3: deque([203])}\n",
    "    [10, 1, 203, 14]\n",
    "    {1: deque([10, 14]), 0: deque([1, 203])}\n",
    "    [1, 203, 10, 14]\n",
    "    {0: deque([1, 10, 14]), 2: deque([203])}\n",
    "    [1, 10, 14, 203]\n",
    "    {0: deque([1, 10, 14, 203])}\n",
    "    [1, 10, 14, 203]\n",
    "    \"\"\"\n",
    "    max_num = max(array)\n",
    "    num_digits = len(str(max_num))\n",
    "    \n",
    "    for digit in range(num_digits+1):\n",
    "        \n",
    "        # bucket_sort each digit\n",
    "        hash_table = {}\n",
    "        for i, num in enumerate(array):\n",
    "            digit_val = get_digit(num, digit)\n",
    "            if hash_table.get(digit_val) is None:\n",
    "                hash_table[digit_val] = deque([num])\n",
    "            else:\n",
    "                hash_table[digit_val].append(num)\n",
    "        print(hash_table) if to_print else None\n",
    "        \n",
    "        # merge each bucket back into original array\n",
    "        i=0\n",
    "        for digit in range(0, 10):\n",
    "            while hash_table.get(digit):\n",
    "                array[i] = hash_table[digit].popleft()\n",
    "                i+=1\n",
    "        print(array) if to_print else None\n",
    "        \n",
    "    return array"
   ]
  },
  {
   "cell_type": "code",
   "execution_count": 3,
   "metadata": {},
   "outputs": [
    {
     "data": {
      "text/plain": [
       "{94034081182464: deque([0]),\n",
       " 94034081188928: deque([1]),\n",
       " 94034081182752: deque([2]),\n",
       " 94034081182880: deque([3])}"
      ]
     },
     "execution_count": 3,
     "metadata": {},
     "output_type": "execute_result"
    }
   ],
   "source": [
    "array = [1, 203, 10, 14]\n",
    "\n",
    "hash_table = idx_hash_table_for_array(array)\n",
    "hash_table"
   ]
  },
  {
   "cell_type": "code",
   "execution_count": 4,
   "metadata": {},
   "outputs": [
    {
     "name": "stdout",
     "output_type": "stream",
     "text": [
      "{1: deque([1]), 3: deque([203]), 0: deque([10]), 4: deque([14])}\n",
      "[10, 1, 203, 14]\n",
      "{1: deque([10, 14]), 0: deque([1, 203])}\n",
      "[1, 203, 10, 14]\n",
      "{0: deque([1, 10, 14]), 2: deque([203])}\n",
      "[1, 10, 14, 203]\n",
      "{0: deque([1, 10, 14, 203])}\n",
      "[1, 10, 14, 203]\n"
     ]
    },
    {
     "data": {
      "text/plain": [
       "[1, 10, 14, 203]"
      ]
     },
     "execution_count": 4,
     "metadata": {},
     "output_type": "execute_result"
    }
   ],
   "source": [
    "array = radix_sort(array, to_print=True)\n",
    "array"
   ]
  },
  {
   "cell_type": "code",
   "execution_count": 5,
   "metadata": {},
   "outputs": [
    {
     "data": {
      "text/plain": [
       "[0, 2, 3, 1]"
      ]
     },
     "execution_count": 5,
     "metadata": {},
     "output_type": "execute_result"
    }
   ],
   "source": [
    "map_hash(array, hash_table)"
   ]
  },
  {
   "cell_type": "code",
   "execution_count": null,
   "metadata": {},
   "outputs": [],
   "source": []
  }
 ],
 "metadata": {
  "kernelspec": {
   "display_name": "Python 3",
   "language": "python",
   "name": "python3"
  },
  "language_info": {
   "codemirror_mode": {
    "name": "ipython",
    "version": 3
   },
   "file_extension": ".py",
   "mimetype": "text/x-python",
   "name": "python",
   "nbconvert_exporter": "python",
   "pygments_lexer": "ipython3",
   "version": "3.7.6"
  }
 },
 "nbformat": 4,
 "nbformat_minor": 4
}
